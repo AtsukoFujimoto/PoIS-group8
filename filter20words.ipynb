{
 "cells": [
  {
   "cell_type": "code",
   "execution_count": 12,
   "metadata": {},
   "outputs": [],
   "source": [
    "# import required module\n",
    "import os\n",
    "import csv\n",
    "import ast\n",
    "import re"
   ]
  },
  {
   "cell_type": "code",
   "execution_count": 13,
   "metadata": {},
   "outputs": [],
   "source": [
    "directory=\"5ch/\""
   ]
  },
  {
   "cell_type": "code",
   "execution_count": 14,
   "metadata": {},
   "outputs": [],
   "source": [
    "def category(directory):\n",
    "    # iterate over files in\n",
    "    # that directory\n",
    "    for filename in os.listdir(directory):\n",
    "        f = os.path.join(directory, filename)\n",
    "        # checking if it is a file\n",
    "\n",
    "        if os.path.isfile(f) and filename.endswith('.csv'):\n",
    "            with open(f,'r',encoding='utf-8') as file:\n",
    "                reader=csv.DictReader(file)\n",
    "                fieldnames=reader.fieldnames\n",
    "                rows=list(reader)\n",
    "            yield fieldnames,rows"
   ]
  },
  {
   "cell_type": "code",
   "execution_count": 15,
   "metadata": {},
   "outputs": [],
   "source": [
    "def filterByWords(usercontent):\n",
    "    if len(usercontent['content'])>20:\n",
    "        return usercontent\n",
    "    else:\n",
    "        return None\n",
    "    \n",
    "def filterByKeyword(usercontent):\n",
    "    pattern=r'.*(経験談|失敗談).*'\n",
    "    m=re.match(pattern=pattern,string=usercontent['content'])\n",
    "    if m:\n",
    "        return usercontent\n",
    "    else:\n",
    "        return None\n",
    "    \n",
    "def filterMain(usercontent):\n",
    "    usercontent['content'].replace('\\u3000',' ')\n",
    "    return filterByWords(usercontent),filterByKeyword(usercontent)"
   ]
  },
  {
   "cell_type": "code",
   "execution_count": 16,
   "metadata": {},
   "outputs": [],
   "source": [
    "def extractPost(posts):\n",
    "    for post in posts:\n",
    "        str_content=post['content']\n",
    "        dict_content=ast.literal_eval(str_content)\n",
    "        yield post,dict_content"
   ]
  },
  {
   "cell_type": "code",
   "execution_count": 17,
   "metadata": {},
   "outputs": [],
   "source": [
    "def extractUsercontent(content):\n",
    "    for i in range(len(content)):\n",
    "        usercontent=content[i+1]\n",
    "        yield i+1,usercontent"
   ]
  },
  {
   "cell_type": "code",
   "execution_count": 18,
   "metadata": {},
   "outputs": [],
   "source": [
    "def ExportToCategoryFile(directory,filename,fieldnames,posts):\n",
    "    with open(directory+filename,'w',encoding='utf-8') as file:\n",
    "        writer = csv.DictWriter(file, fieldnames=fieldnames)\n",
    "        writer.writeheader()\n",
    "        writer.writerows(posts)"
   ]
  },
  {
   "cell_type": "code",
   "execution_count": 19,
   "metadata": {},
   "outputs": [],
   "source": [
    "def main():\n",
    "    categorylist=category(directory)\n",
    "    for fieldnames,posts in categorylist:\n",
    "        posts_updated1=[]\n",
    "        posts_updated2=[]\n",
    "        for post,dict_content in extractPost(posts):\n",
    "            usercontents_updated1,usercontents_updated2={},{}\n",
    "            for user_no, usercontent in extractUsercontent(dict_content):\n",
    "                    filter1,filter2=filterMain(usercontent)\n",
    "                    if filter1:\n",
    "                        usercontents_updated1.update({user_no:filter1})\n",
    "                        if filter2:\n",
    "                             usercontents_updated2.update({user_no:filter2})\n",
    "                             \n",
    "            if usercontents_updated1:\n",
    "                post_updated1=post.copy()\n",
    "                post_updated1.update({'content':str(usercontents_updated1)})\n",
    "                posts_updated1.append(post_updated1)\n",
    "                if usercontents_updated2:\n",
    "                    post_updated2=post.copy()\n",
    "                    post_updated2.update({'content':str(usercontents_updated2)})\n",
    "                    posts_updated2.append(post_updated2)\n",
    "        if posts_updated1:\n",
    "            filename='-'.join([post['category'],post['tag']])+'.csv'\n",
    "            ExportToCategoryFile('5ch_wordlimit/',filename,fieldnames,posts_updated1)\n",
    "            if posts_updated2:\n",
    "                ExportToCategoryFile('5ch_keyword/',filename,fieldnames,posts_updated2) \n",
    "                "
   ]
  },
  {
   "cell_type": "code",
   "execution_count": 24,
   "metadata": {},
   "outputs": [],
   "source": [
    "import sys\n",
    "csv.field_size_limit(int(sys.maxsize))\n",
    "main()"
   ]
  },
  {
   "cell_type": "code",
   "execution_count": 27,
   "metadata": {},
   "outputs": [
    {
     "name": "stdout",
     "output_type": "stream",
     "text": [
      "keyword: 128 wordlimit:37394\n"
     ]
    }
   ],
   "source": [
    "directory1=\"5ch_keyword/\"\n",
    "directory2=\"5ch_wordlimit/\"\n",
    "def checkRowNum(directory):\n",
    "    categorylist=category(directory)\n",
    "    counter=0\n",
    "    for fieldnames,posts in categorylist:\n",
    "        counter+=len(posts)\n",
    "    return counter\n",
    "\n",
    "print(f'keyword: {checkRowNum(directory1)} wordlimit:{checkRowNum(directory2)}')\n"
   ]
  }
 ],
 "metadata": {
  "kernelspec": {
   "display_name": "Python 3",
   "language": "python",
   "name": "python3"
  },
  "language_info": {
   "codemirror_mode": {
    "name": "ipython",
    "version": 3
   },
   "file_extension": ".py",
   "mimetype": "text/x-python",
   "name": "python",
   "nbconvert_exporter": "python",
   "pygments_lexer": "ipython3",
   "version": "3.12.3"
  }
 },
 "nbformat": 4,
 "nbformat_minor": 2
}
